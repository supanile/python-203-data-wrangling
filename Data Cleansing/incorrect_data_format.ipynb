{
 "cells": [
  {
   "cell_type": "code",
   "execution_count": 2,
   "metadata": {},
   "outputs": [
    {
     "name": "stdout",
     "output_type": "stream",
     "text": [
      "Original Data:\n",
      "            date   price quantity\n",
      "0     2023-01-01     100       10\n",
      "1     01-02-2023   200.5       20\n",
      "2  March 5, 2023    300$   thirty\n",
      "3     2023/04/01     400       40\n",
      "4     not a date  500THB       50\n"
     ]
    }
   ],
   "source": [
    "import pandas as pd\n",
    "\n",
    "# สร้าง DataFrame ตัวอย่างที่มีข้อมูลในรูปแบบที่ไม่ถูกต้อง\n",
    "data = {\n",
    "    'date': ['2023-01-01', '01-02-2023', 'March 5, 2023', '2023/04/01', 'not a date'],\n",
    "    'price': ['100', '200.5', '300$', '400', '500THB'],\n",
    "    'quantity': ['10', '20', 'thirty', '40', '50']\n",
    "}\n",
    "\n",
    "df = pd.DataFrame(data)\n",
    "print(\"Original Data:\")\n",
    "print(df)"
   ]
  },
  {
   "cell_type": "code",
   "execution_count": 4,
   "metadata": {},
   "outputs": [
    {
     "name": "stdout",
     "output_type": "stream",
     "text": [
      "\n",
      "หลังจากแปลงข้อมูลวันที่ (Date):\n",
      "        date   price quantity\n",
      "0 2023-01-01     100       10\n",
      "1 2023-02-01   200.5       20\n",
      "2 2023-03-05    300$   thirty\n",
      "3 2023-04-01     400       40\n",
      "4        NaT  500THB       50\n"
     ]
    }
   ],
   "source": [
    "# 1. การแปลงข้อมูลวันที่ (Date)\n",
    "# แปลงคอลัมน์ 'date' ให้เป็นรูปแบบวันที่\n",
    "df['date'] = pd.to_datetime(df['date'], errors='coerce')\n",
    "print(\"\\nหลังจากแปลงข้อมูลวันที่ (Date):\")\n",
    "print(df)"
   ]
  },
  {
   "cell_type": "code",
   "execution_count": 6,
   "metadata": {},
   "outputs": [
    {
     "name": "stdout",
     "output_type": "stream",
     "text": [
      "\n",
      "หลังจากแปลงข้อมูลวันที่ (Date) ใหม่:\n",
      "        date   price quantity\n",
      "0 2023-01-01     100       10\n",
      "1 2023-02-01   200.5       20\n",
      "2 2023-03-05    300$   thirty\n",
      "3 2023-04-01     400       40\n",
      "4        NaT  500THB       50\n"
     ]
    }
   ],
   "source": [
    "# แปลงคอลัมน์ 'date' ให้เป็นรูปแบบวันที่โดยใช้หลายรูปแบบในการแปลง\n",
    "def parse_date(date):\n",
    "    for fmt in ('%Y-%m-%d', '%d-%m-%Y', '%B %d, %Y', '%Y/%m/%d'):\n",
    "        try:\n",
    "            return pd.to_datetime(date, format=fmt)\n",
    "        except (ValueError, TypeError):\n",
    "            continue\n",
    "    return pd.NaT  # Return NaT if no format matches\n",
    "\n",
    "print(\"\\nหลังจากแปลงข้อมูลวันที่ (Date) ใหม่:\")\n",
    "# Apply the parse_date function\n",
    "df['date'] = df['date'].apply(parse_date)\n",
    "print(df)"
   ]
  },
  {
   "cell_type": "code",
   "execution_count": 2,
   "metadata": {},
   "outputs": [
    {
     "name": "stdout",
     "output_type": "stream",
     "text": [
      "\n",
      "หลังจากแปลงข้อมูลราคา (Price) ให้เป็นตัวเลข:\n",
      "            date  price quantity\n",
      "0     2023-01-01  100.0       10\n",
      "1     01-02-2023  200.5       20\n",
      "2  March 5, 2023  300.0   thirty\n",
      "3     2023/04/01  400.0       40\n",
      "4     not a date  500.0       50\n"
     ]
    }
   ],
   "source": [
    "# 2. การแปลงข้อมูลตัวเลข (Numeric)\n",
    "# ลบสัญลักษณ์ที่ไม่จำเป็นและแปลงข้อมูลเป็นตัวเลข\n",
    "df['price'] = pd.to_numeric(df['price'].str.replace(r'[^\\d.]', '', regex=True), errors='coerce')\n",
    "print(\"\\nหลังจากแปลงข้อมูลราคา (Price) ให้เป็นตัวเลข:\")\n",
    "print(df)"
   ]
  },
  {
   "cell_type": "code",
   "execution_count": 5,
   "metadata": {},
   "outputs": [
    {
     "name": "stdout",
     "output_type": "stream",
     "text": [
      "\n",
      "หลังจากแปลงข้อมูลจำนวน (Quantity) ให้เป็นตัวเลข:\n",
      "            date   price  quantity\n",
      "0     2023-01-01     100      10.0\n",
      "1     01-02-2023   200.5      20.0\n",
      "2  March 5, 2023    300$       NaN\n",
      "3     2023/04/01     400      40.0\n",
      "4     not a date  500THB      50.0\n"
     ]
    }
   ],
   "source": [
    "# 3. การแปลงข้อมูลข้อความเป็นตัวเลข (String to Numeric)\n",
    "# แปลงข้อมูลคอลัมน์ 'quantity' เป็นตัวเลข โดยเปลี่ยนค่าที่ไม่ใช่ตัวเลขให้เป็น NaN\n",
    "df['quantity'] = pd.to_numeric(df['quantity'], errors='coerce')\n",
    "print(\"\\nหลังจากแปลงข้อมูลจำนวน (Quantity) ให้เป็นตัวเลข:\")\n",
    "print(df)"
   ]
  },
  {
   "cell_type": "code",
   "execution_count": null,
   "metadata": {},
   "outputs": [],
   "source": [
    "# 4. การแปลงข้อมูลให้เป็นข้อความ (String)\n",
    "# แปลงข้อมูลคอลัมน์ 'price' เป็นข้อความ (String) ในกรณีที่ต้องการเก็บในรูปแบบนี้\n",
    "df['price'] = df['price'].astype(str)\n",
    "print(\"\\nหลังจากแปลงข้อมูลราคา (Price) ให้เป็นข้อความ:\")\n",
    "print(df)"
   ]
  }
 ],
 "metadata": {
  "kernelspec": {
   "display_name": "Python 3",
   "language": "python",
   "name": "python3"
  },
  "language_info": {
   "codemirror_mode": {
    "name": "ipython",
    "version": 3
   },
   "file_extension": ".py",
   "mimetype": "text/x-python",
   "name": "python",
   "nbconvert_exporter": "python",
   "pygments_lexer": "ipython3",
   "version": "3.12.7"
  }
 },
 "nbformat": 4,
 "nbformat_minor": 2
}
