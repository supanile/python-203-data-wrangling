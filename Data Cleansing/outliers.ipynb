{
 "cells": [
  {
   "cell_type": "code",
   "execution_count": 10,
   "metadata": {},
   "outputs": [
    {
     "name": "stdout",
     "output_type": "stream",
     "text": [
      "Outliers:\n",
      "   Student_ID  Age\n",
      "8           9   40\n"
     ]
    }
   ],
   "source": [
    "import pandas as pd\n",
    "import numpy as np\n",
    "\n",
    "# สร้าง DataFrame ตัวอย่าง\n",
    "data = {\n",
    "    'Student_ID': [1, 2, 3, 4, 5, 6, 7, 8, 9, 10],\n",
    "    'Age': [10, 11, 12, 10, 11, 10, 11, 12, 40, 11]\n",
    "}\n",
    "df = pd.DataFrame(data)\n",
    "\n",
    "# คำนวณ Q1 และ Q3\n",
    "Q1 = df['Age'].quantile(0.25)\n",
    "Q3 = df['Age'].quantile(0.75)\n",
    "IQR = Q3 - Q1\n",
    "\n",
    "# กำหนดขอบเขตของ Outliers\n",
    "lower_bound = Q1 - 1.5 * IQR\n",
    "upper_bound = Q3 + 1.5 * IQR\n",
    "\n",
    "# หา Outliers\n",
    "outliers = df[(df['Age'] < lower_bound) | (df['Age'] > upper_bound)]\n",
    "print(\"Outliers:\")\n",
    "print(outliers)\n"
   ]
  },
  {
   "cell_type": "code",
   "execution_count": 8,
   "metadata": {},
   "outputs": [],
   "source": [
    "# 1. ตัวอย่างการลบ Outliers ออกจาก DataFrame\n",
    "df_no_outliers = df[(df['Age'] >= lower_bound) & (df['Age'] <= upper_bound)]"
   ]
  },
  {
   "cell_type": "code",
   "execution_count": 12,
   "metadata": {},
   "outputs": [],
   "source": [
    "# 2. การแทนที่ Outliers ด้วยค่าที่เหมาะสม (Imputation)\n",
    "# ตัวอย่างการแทนที่ Outliers ด้วยมัธยฐาน\n",
    "median_age = df['Age'].median()\n",
    "df['Age'] = np.where((df['Age'] < lower_bound) | (df['Age'] > upper_bound), median_age, df['Age'])"
   ]
  },
  {
   "cell_type": "code",
   "execution_count": 13,
   "metadata": {},
   "outputs": [
    {
     "name": "stdout",
     "output_type": "stream",
     "text": [
      "DataFrame after adjusting outliers:\n",
      "   Student_ID   Age\n",
      "0           1  10.0\n",
      "1           2  11.0\n",
      "2           3  12.0\n",
      "3           4  10.0\n",
      "4           5  11.0\n",
      "5           6  10.0\n",
      "6           7  11.0\n",
      "7           8  12.0\n",
      "8           9  11.0\n",
      "9          10  11.0\n"
     ]
    }
   ],
   "source": [
    "# 3. ตัวอย่างการปรับขนาดข้อมูล (Capping/Flooring)\n",
    "df['Age'] = np.where(df['Age'] > upper_bound, upper_bound, \n",
    "                     np.where(df['Age'] < lower_bound, lower_bound, df['Age']))\n",
    "                     \n",
    "print(\"DataFrame after adjusting outliers:\")\n",
    "print(df)"
   ]
  },
  {
   "cell_type": "code",
   "execution_count": 14,
   "metadata": {},
   "outputs": [],
   "source": [
    "# 4. การใช้วิธีการแปลงข้อมูล (Transformation)\n",
    "# ตัวอย่างการแปลงข้อมูลด้วย Log Transformation\n",
    "df['Age'] = np.log1p(df['Age'])  # ใช้ log1p เพื่อป้องกัน log(0)"
   ]
  }
 ],
 "metadata": {
  "kernelspec": {
   "display_name": "Python 3",
   "language": "python",
   "name": "python3"
  },
  "language_info": {
   "codemirror_mode": {
    "name": "ipython",
    "version": 3
   },
   "file_extension": ".py",
   "mimetype": "text/x-python",
   "name": "python",
   "nbconvert_exporter": "python",
   "pygments_lexer": "ipython3",
   "version": "3.12.7"
  }
 },
 "nbformat": 4,
 "nbformat_minor": 2
}
