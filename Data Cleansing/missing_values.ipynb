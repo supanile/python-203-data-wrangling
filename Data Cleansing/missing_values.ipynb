{
 "cells": [
  {
   "cell_type": "code",
   "execution_count": 14,
   "metadata": {},
   "outputs": [
    {
     "name": "stdout",
     "output_type": "stream",
     "text": [
      "Original Data:\n",
      "      name   age   salary\n",
      "0    Alice  24.0  50000.0\n",
      "1      Bob   NaN  54000.0\n",
      "2  Charlie  22.0      NaN\n",
      "3    David  29.0      NaN\n",
      "4      NaN  31.0  59000.0\n"
     ]
    }
   ],
   "source": [
    "import pandas as pd\n",
    "import numpy as np\n",
    "\n",
    "# สร้าง DataFrame ตัวอย่างที่มี Missing Values\n",
    "data = {\n",
    "    'name': ['Alice', 'Bob', 'Charlie', 'David', np.nan],\n",
    "    'age': [24, np.nan, 22, 29, 31],\n",
    "    'salary': [50000, 54000, np.nan, np.nan, 59000]\n",
    "}\n",
    "\n",
    "df = pd.DataFrame(data)\n",
    "print(\"Original Data:\")\n",
    "print(df)"
   ]
  },
  {
   "cell_type": "code",
   "execution_count": 2,
   "metadata": {},
   "outputs": [
    {
     "name": "stdout",
     "output_type": "stream",
     "text": [
      "\n",
      "หลังจากลบแถวที่มี Missing Values:\n",
      "    name   age   salary\n",
      "0  Alice  24.0  50000.0\n"
     ]
    }
   ],
   "source": [
    "# 1. ตรวจสอบ Missing Value: การตรวจสอบเพื่อดูว่า Missing Values อยู่ที่ตำแหน่งไหนในข้อมูลของเรา โดยใช้ .isnull() และ .sum()\n",
    "print(\"\\nตรวจสอบ Missing Values:\")\n",
    "print(df.isnull())  # แสดง True/False หากข้อมูลนั้นๆ เป็นค่าว่าง\n",
    "print(\"\\nจำนวน Missing Values ในแต่ละคอลัมน์:\")\n",
    "print(df.isnull().sum())  # นับจำนวน Missing Values ในแต่ละคอลัมน์"
   ]
  },
  {
   "cell_type": "code",
   "execution_count": 3,
   "metadata": {},
   "outputs": [
    {
     "name": "stdout",
     "output_type": "stream",
     "text": [
      "\n",
      "ตรวจสอบ Missing Values:\n",
      "    name    age  salary\n",
      "0  False  False   False\n",
      "1  False   True   False\n",
      "2  False  False    True\n",
      "3  False  False    True\n",
      "4   True  False   False\n",
      "\n",
      "จำนวน Missing Values ในแต่ละคอลัมน์:\n",
      "name      1\n",
      "age       1\n",
      "salary    2\n",
      "dtype: int64\n"
     ]
    }
   ],
   "source": [
    "# 2. ลบแถวที่มี Missing Values (Dropping Rows)\n",
    "df_dropped = df.dropna()\n",
    "print(\"\\nหลังจากลบแถวที่มี Missing Values:\")\n",
    "print(df_dropped)"
   ]
  },
  {
   "cell_type": "code",
   "execution_count": 4,
   "metadata": {},
   "outputs": [
    {
     "name": "stdout",
     "output_type": "stream",
     "text": [
      "\n",
      "หลังจากแทนที่ Missing Values ในคอลัมน์ 'age' ด้วยค่าเฉลี่ย:\n",
      "      name   age   salary\n",
      "0    Alice  24.0  50000.0\n",
      "1      Bob  26.5  54000.0\n",
      "2  Charlie  22.0      NaN\n",
      "3    David  29.0      NaN\n",
      "4      NaN  31.0  59000.0\n",
      "\n",
      "หลังจากแทนที่ Missing Values ในคอลัมน์ 'salary' ด้วยค่ากลาง:\n",
      "      name   age   salary\n",
      "0    Alice  24.0  50000.0\n",
      "1      Bob  26.5  54000.0\n",
      "2  Charlie  22.0  54000.0\n",
      "3    David  29.0  54000.0\n",
      "4      NaN  31.0  59000.0\n"
     ]
    }
   ],
   "source": [
    "# 3. แทนที่ Missing Values ด้วยค่าเฉลี่ยหรือค่ากลาง (Filling with Mean or Median)\n",
    "# แทนที่ Missing Values ในคอลัมน์ 'age' ด้วยค่าเฉลี่ย\n",
    "df['age'] = df['age'].fillna(df['age'].mean())\n",
    "print(\"\\nหลังจากแทนที่ Missing Values ในคอลัมน์ 'age' ด้วยค่าเฉลี่ย:\")\n",
    "print(df)\n",
    "\n",
    "# แทนที่ Missing Values ในคอลัมน์ 'salary' ด้วยค่ากลาง\n",
    "df['salary'] = df['salary'].fillna(df['salary'].median())\n",
    "print(\"\\nหลังจากแทนที่ Missing Values ในคอลัมน์ 'salary' ด้วยค่ากลาง:\")\n",
    "print(df)"
   ]
  },
  {
   "cell_type": "code",
   "execution_count": 5,
   "metadata": {},
   "outputs": [
    {
     "name": "stdout",
     "output_type": "stream",
     "text": [
      "\n",
      "หลังจากแทนที่ Missing Values ในคอลัมน์ 'name' ด้วยค่าที่พบบ่อยที่สุด:\n",
      "      name   age   salary\n",
      "0    Alice  24.0  50000.0\n",
      "1      Bob  26.5  54000.0\n",
      "2  Charlie  22.0  54000.0\n",
      "3    David  29.0  54000.0\n",
      "4    Alice  31.0  59000.0\n"
     ]
    }
   ],
   "source": [
    "# 4. แทนที่ Missing Values ด้วยค่าที่พบบ่อยที่สุด (Filling with Mode)\n",
    "# แทนที่ Missing Values ในคอลัมน์ 'name' ด้วยค่าที่พบบ่อยที่สุด\n",
    "df['name'] = df['name'].fillna(df['name'].mode()[0])\n",
    "print(\"\\nหลังจากแทนที่ Missing Values ในคอลัมน์ 'name' ด้วยค่าที่พบบ่อยที่สุด:\")\n",
    "print(df)"
   ]
  },
  {
   "cell_type": "code",
   "execution_count": 6,
   "metadata": {},
   "outputs": [
    {
     "name": "stdout",
     "output_type": "stream",
     "text": [
      "\n",
      "หลังจากแทนที่ Missing Values ในคอลัมน์ 'age' ด้วย Interpolation:\n",
      "      name   age   salary\n",
      "0    Alice  24.0  50000.0\n",
      "1      Bob  26.5  54000.0\n",
      "2  Charlie  22.0  54000.0\n",
      "3    David  29.0  54000.0\n",
      "4    Alice  31.0  59000.0\n"
     ]
    }
   ],
   "source": [
    "# 5. ใช้วิธี Interpolation\n",
    "# แทนที่ Missing Values ในคอลัมน์ 'age' ด้วย Interpolation\n",
    "df['age'] = df['age'].interpolate()\n",
    "print(\"\\nหลังจากแทนที่ Missing Values ในคอลัมน์ 'age' ด้วย Interpolation:\")\n",
    "print(df)"
   ]
  },
  {
   "cell_type": "code",
   "execution_count": 16,
   "metadata": {},
   "outputs": [
    {
     "name": "stdout",
     "output_type": "stream",
     "text": [
      "\n",
      "หลังจากเติมค่าตามข้อมูลก่อนหน้า (Forward Fill):\n",
      "      name   age   salary\n",
      "0    Alice  24.0  50000.0\n",
      "1      Bob  24.0  54000.0\n",
      "2  Charlie  22.0  54000.0\n",
      "3    David  29.0  54000.0\n",
      "4    David  31.0  59000.0\n",
      "\n",
      "หลังจากเติมค่าตามข้อมูลหลังหน้า (Backward Fill):\n",
      "      name   age   salary\n",
      "0    Alice  24.0  50000.0\n",
      "1      Bob  22.0  54000.0\n",
      "2  Charlie  22.0  59000.0\n",
      "3    David  29.0  59000.0\n",
      "4      NaN  31.0  59000.0\n"
     ]
    },
    {
     "name": "stderr",
     "output_type": "stream",
     "text": [
      "C:\\Users\\Lenovo\\AppData\\Local\\Temp\\ipykernel_11088\\4133968775.py:2: FutureWarning: DataFrame.fillna with 'method' is deprecated and will raise in a future version. Use obj.ffill() or obj.bfill() instead.\n",
      "  df_ffill = df.fillna(method='ffill')\n",
      "C:\\Users\\Lenovo\\AppData\\Local\\Temp\\ipykernel_11088\\4133968775.py:7: FutureWarning: DataFrame.fillna with 'method' is deprecated and will raise in a future version. Use obj.ffill() or obj.bfill() instead.\n",
      "  df_bfill = df.fillna(method='bfill')\n"
     ]
    }
   ],
   "source": [
    "# 6. การเติม Missing Values ตามข้อมูลก่อนหน้า/หลังหน้า (Forward Fill / Backward Fill)\n",
    "# เติมค่าตามข้อมูลก่อนหน้า (Forward Fill)\n",
    "df_ffill = df.fillna(method='ffill')\n",
    "print(\"\\nหลังจากเติมค่าตามข้อมูลก่อนหน้า (Forward Fill):\")\n",
    "print(df_ffill)\n",
    "\n",
    "# เติมค่าตามข้อมูลหลังหน้า (Backward Fill)\n",
    "df_bfill = df.fillna(method='bfill')\n",
    "print(\"\\nหลังจากเติมค่าตามข้อมูลหลังหน้า (Backward Fill):\")\n",
    "print(df_bfill)"
   ]
  }
 ],
 "metadata": {
  "kernelspec": {
   "display_name": "Python 3",
   "language": "python",
   "name": "python3"
  },
  "language_info": {
   "codemirror_mode": {
    "name": "ipython",
    "version": 3
   },
   "file_extension": ".py",
   "mimetype": "text/x-python",
   "name": "python",
   "nbconvert_exporter": "python",
   "pygments_lexer": "ipython3",
   "version": "3.12.7"
  }
 },
 "nbformat": 4,
 "nbformat_minor": 2
}
