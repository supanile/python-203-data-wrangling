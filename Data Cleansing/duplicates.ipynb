{
 "cells": [
  {
   "cell_type": "code",
   "execution_count": 1,
   "metadata": {},
   "outputs": [
    {
     "name": "stdout",
     "output_type": "stream",
     "text": [
      "Original Data:\n",
      "   id     name  age\n",
      "0   1    Alice   24\n",
      "1   2      Bob   25\n",
      "2   2      Bob   25\n",
      "3   3  Charlie   22\n",
      "4   4    David   29\n",
      "5   5      Eve   31\n",
      "6   5      Eve   31\n"
     ]
    }
   ],
   "source": [
    "import pandas as pd\n",
    "\n",
    "# สร้าง DataFrame ตัวอย่างที่มีข้อมูลซ้ำ\n",
    "data = {\n",
    "    'id': [1, 2, 2, 3, 4, 5, 5],\n",
    "    'name': ['Alice', 'Bob', 'Bob', 'Charlie', 'David', 'Eve', 'Eve'],\n",
    "    'age': [24, 25, 25, 22, 29, 31, 31]\n",
    "}\n",
    "\n",
    "df = pd.DataFrame(data)\n",
    "print(\"Original Data:\")\n",
    "print(df)"
   ]
  },
  {
   "cell_type": "code",
   "execution_count": 2,
   "metadata": {},
   "outputs": [
    {
     "name": "stdout",
     "output_type": "stream",
     "text": [
      "\n",
      "ตรวจสอบแถวที่ซ้ำกัน:\n",
      "0    False\n",
      "1    False\n",
      "2     True\n",
      "3    False\n",
      "4    False\n",
      "5    False\n",
      "6     True\n",
      "dtype: bool\n"
     ]
    }
   ],
   "source": [
    "# 1. ตรวจสอบแถวที่ซ้ำกัน\n",
    "print(\"\\nตรวจสอบแถวที่ซ้ำกัน:\")\n",
    "print(df.duplicated())"
   ]
  },
  {
   "cell_type": "code",
   "execution_count": 3,
   "metadata": {},
   "outputs": [
    {
     "name": "stdout",
     "output_type": "stream",
     "text": [
      "\n",
      "ตรวจสอบข้อมูลซ้ำในคอลัมน์ 'id':\n",
      "0    False\n",
      "1    False\n",
      "2     True\n",
      "3    False\n",
      "4    False\n",
      "5    False\n",
      "6     True\n",
      "dtype: bool\n",
      "\n",
      "ตรวจสอบข้อมูลซ้ำในคอลัมน์ 'name':\n",
      "0    False\n",
      "1    False\n",
      "2     True\n",
      "3    False\n",
      "4    False\n",
      "5    False\n",
      "6     True\n",
      "dtype: bool\n"
     ]
    }
   ],
   "source": [
    "# 2. ตรวจสอบข้อมูลซ้ำแบบกำหนด column เฉพาะ\n",
    "# ตรวจสอบข้อมูลซ้ำในคอลัมน์ 'id'\n",
    "print(\"\\nตรวจสอบข้อมูลซ้ำในคอลัมน์ 'id':\")\n",
    "print(df.duplicated(subset=['id']))\n",
    "\n",
    "# ตรวจสอบข้อมูลซ้ำในคอลัมน์ 'name'\n",
    "print(\"\\nตรวจสอบข้อมูลซ้ำในคอลัมน์ 'name':\")\n",
    "print(df.duplicated(subset=['name']))"
   ]
  },
  {
   "cell_type": "code",
   "execution_count": 5,
   "metadata": {},
   "outputs": [
    {
     "name": "stdout",
     "output_type": "stream",
     "text": [
      "\n",
      "หลังจากลบข้อมูลซ้ำ (เก็บแถวแรกไว้):\n",
      "   id     name  age\n",
      "0   1    Alice   24\n",
      "1   2      Bob   25\n",
      "3   3  Charlie   22\n",
      "4   4    David   29\n",
      "5   5      Eve   31\n",
      "\n",
      "หลังจากลบข้อมูลซ้ำ (เก็บแถวสุดท้ายไว้):\n",
      "   id     name  age\n",
      "0   1    Alice   24\n",
      "2   2      Bob   25\n",
      "3   3  Charlie   22\n",
      "4   4    David   29\n",
      "6   5      Eve   31\n",
      "\n",
      "หลังจากลบข้อมูลซ้ำทั้งหมด:\n",
      "   id     name  age\n",
      "0   1    Alice   24\n",
      "3   3  Charlie   22\n",
      "4   4    David   29\n"
     ]
    }
   ],
   "source": [
    "# 3. ลบข้อมูลซ้ำ (Removing Duplicates)\n",
    "# ลบข้อมูลซ้ำ โดยเก็บแถวแรกไว้\n",
    "df_no_duplicates = df.drop_duplicates()\n",
    "print(\"\\nหลังจากลบข้อมูลซ้ำ (เก็บแถวแรกไว้):\")\n",
    "print(df_no_duplicates)\n",
    "\n",
    "# ลบข้อมูลซ้ำ โดยเก็บแถวสุดท้ายไว้\n",
    "df_no_duplicates_last = df.drop_duplicates(keep='last')\n",
    "print(\"\\nหลังจากลบข้อมูลซ้ำ (เก็บแถวสุดท้ายไว้):\")\n",
    "print(df_no_duplicates_last)\n",
    "\n",
    "# ลบข้อมูลซ้ำทั้งหมด\n",
    "df_no_duplicates_all = df.drop_duplicates(keep=False)\n",
    "print(\"\\nหลังจากลบข้อมูลซ้ำทั้งหมด:\")\n",
    "print(df_no_duplicates_all)"
   ]
  },
  {
   "cell_type": "code",
   "execution_count": 6,
   "metadata": {},
   "outputs": [
    {
     "name": "stdout",
     "output_type": "stream",
     "text": [
      "\n",
      "หลังจากลบข้อมูลซ้ำโดยดูเฉพาะคอลัมน์ 'id':\n",
      "   id     name  age\n",
      "0   1    Alice   24\n",
      "1   2      Bob   25\n",
      "3   3  Charlie   22\n",
      "4   4    David   29\n",
      "5   5      Eve   31\n",
      "\n",
      "หลังจากลบข้อมูลซ้ำโดยดูเฉพาะคอลัมน์ 'name':\n",
      "   id     name  age\n",
      "0   1    Alice   24\n",
      "1   2      Bob   25\n",
      "3   3  Charlie   22\n",
      "4   4    David   29\n",
      "5   5      Eve   31\n"
     ]
    }
   ],
   "source": [
    "# 4. ลบข้อมูลซ้ำเฉพาะบางคอลัมน์\n",
    "# ลบข้อมูลซ้ำโดยดูเฉพาะคอลัมน์ 'id'\n",
    "df_no_duplicates_id = df.drop_duplicates(subset=['id'])\n",
    "print(\"\\nหลังจากลบข้อมูลซ้ำโดยดูเฉพาะคอลัมน์ 'id':\")\n",
    "print(df_no_duplicates_id)\n",
    "\n",
    "# ลบข้อมูลซ้ำโดยดูเฉพาะคอลัมน์ 'name'\n",
    "df_no_duplicates_name = df.drop_duplicates(subset=['name'])\n",
    "print(\"\\nหลังจากลบข้อมูลซ้ำโดยดูเฉพาะคอลัมน์ 'name':\")\n",
    "print(df_no_duplicates_name)"
   ]
  }
 ],
 "metadata": {
  "kernelspec": {
   "display_name": "Python 3",
   "language": "python",
   "name": "python3"
  },
  "language_info": {
   "codemirror_mode": {
    "name": "ipython",
    "version": 3
   },
   "file_extension": ".py",
   "mimetype": "text/x-python",
   "name": "python",
   "nbconvert_exporter": "python",
   "pygments_lexer": "ipython3",
   "version": "3.12.7"
  }
 },
 "nbformat": 4,
 "nbformat_minor": 2
}
