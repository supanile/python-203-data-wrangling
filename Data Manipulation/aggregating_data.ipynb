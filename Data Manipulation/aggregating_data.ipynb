{
 "cells": [
  {
   "cell_type": "code",
   "execution_count": 1,
   "metadata": {},
   "outputs": [
    {
     "name": "stdout",
     "output_type": "stream",
     "text": [
      "      Name Department  Salary  Experience\n",
      "0    Alice         HR   50000           2\n",
      "1      Bob         IT   60000           5\n",
      "2  Charlie    Finance   55000           3\n",
      "3    David         IT   70000           4\n",
      "4      Eva  Marketing   65000           6\n",
      "5    Frank    Finance   52000           2\n"
     ]
    }
   ],
   "source": [
    "import pandas as pd\n",
    "\n",
    "# สร้าง DataFrame\n",
    "data = {\n",
    "    'Name': ['Alice', 'Bob', 'Charlie', 'David', 'Eva', 'Frank'],\n",
    "    'Department': ['HR', 'IT', 'Finance', 'IT', 'Marketing', 'Finance'],\n",
    "    'Salary': [50000, 60000, 55000, 70000, 65000, 52000],\n",
    "    'Experience': [2, 5, 3, 4, 6, 2]\n",
    "}\n",
    "\n",
    "df = pd.DataFrame(data)\n",
    "print(df)"
   ]
  },
  {
   "cell_type": "code",
   "execution_count": null,
   "metadata": {},
   "outputs": [],
   "source": [
    "# ตัวอย่าง 1: การหาค่าสูงสุดและค่าต่ำสุดของประสบการณ์ในแต่ละแผนก\n",
    "# สรุปค่า max, min ไปพร้อมๆกัน\n",
    "experience_agg_by_dept = df.groupby('Department')['Experience'].agg(['max', 'min'])\n",
    "print(experience_agg_by_dept)"
   ]
  },
  {
   "cell_type": "code",
   "execution_count": null,
   "metadata": {},
   "outputs": [],
   "source": [
    "# ตัวอย่าง 2: การใช้ Aggregation หลายฟังก์ชันพร้อมกัน\n",
    "\n",
    "salary_agg_by_dept = df.groupby('Department')['Salary'].agg(['sum', 'mean', 'max', 'min'])\n",
    "print(salary_agg_by_dept)"
   ]
  }
 ],
 "metadata": {
  "kernelspec": {
   "display_name": "Python 3",
   "language": "python",
   "name": "python3"
  },
  "language_info": {
   "codemirror_mode": {
    "name": "ipython",
    "version": 3
   },
   "file_extension": ".py",
   "mimetype": "text/x-python",
   "name": "python",
   "nbconvert_exporter": "python",
   "pygments_lexer": "ipython3",
   "version": "3.12.7"
  }
 },
 "nbformat": 4,
 "nbformat_minor": 2
}
