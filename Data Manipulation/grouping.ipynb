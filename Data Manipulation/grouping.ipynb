{
 "cells": [
  {
   "cell_type": "code",
   "execution_count": 1,
   "metadata": {},
   "outputs": [
    {
     "name": "stdout",
     "output_type": "stream",
     "text": [
      "      Name Department  Salary\n",
      "0    Alice         HR   50000\n",
      "1      Bob         IT   60000\n",
      "2  Charlie    Finance   55000\n",
      "3    David         IT   70000\n",
      "4      Eva  Marketing   65000\n",
      "5    Frank    Finance   52000\n"
     ]
    }
   ],
   "source": [
    "import pandas as pd\n",
    "\n",
    "# สร้าง DataFrame\n",
    "data = {\n",
    "    'Name': ['Alice', 'Bob', 'Charlie', 'David', 'Eva', 'Frank'],\n",
    "    'Department': ['HR', 'IT', 'Finance', 'IT', 'Marketing', 'Finance'],\n",
    "    'Salary': [50000, 60000, 55000, 70000, 65000, 52000]\n",
    "}\n",
    "\n",
    "df = pd.DataFrame(data)\n",
    "print(df)"
   ]
  },
  {
   "cell_type": "code",
   "execution_count": null,
   "metadata": {},
   "outputs": [],
   "source": [
    "# ตัวอย่าง 1: การหาผลรวมเงินเดือนของพนักงานในแต่ละแผนก\n",
    "\n",
    "salary_sum_by_dept = df.groupby('Department')['Salary'].sum()\n",
    "print(salary_sum_by_dept)"
   ]
  },
  {
   "cell_type": "code",
   "execution_count": 2,
   "metadata": {},
   "outputs": [
    {
     "name": "stdout",
     "output_type": "stream",
     "text": [
      "Department\n",
      "Finance      53500.0\n",
      "HR           50000.0\n",
      "IT           65000.0\n",
      "Marketing    65000.0\n",
      "Name: Salary, dtype: float64\n"
     ]
    }
   ],
   "source": [
    "# ตัวอย่าง 2: การหาค่าเฉลี่ยเงินเดือนของพนักงานในแต่ละแผนก ในตัวอย่างนี้ เราใช้ mean() เพื่อหาค่าเฉลี่ยของเงินเดือนในแต่ละแผนก\n",
    "\n",
    "salary_mean_by_dept = df.groupby('Department')['Salary'].mean()\n",
    "print(salary_mean_by_dept)"
   ]
  },
  {
   "cell_type": "code",
   "execution_count": null,
   "metadata": {},
   "outputs": [],
   "source": [
    "# ตัวอย่าง 3: การนับจำนวนพนักงานในแต่ละแผนก โดยใช้ functioncount()\n",
    "\n",
    "employee_count_by_dept = df.groupby('Department')['Name'].count()\n",
    "print(employee_count_by_dept)"
   ]
  },
  {
   "cell_type": "code",
   "execution_count": null,
   "metadata": {},
   "outputs": [],
   "source": [
    "# ตัวอย่างที่ 4: การใช้งาน Grouping หลายคอลัมน์พร้อมกัน\n",
    "# หากเราต้องการจัดกลุ่มโดยใช้หลายคอลัมน์ สามารถทำได้เช่นกัน เช่นตัวอย่าง Dataframe นี้\n",
    "# ตัวอย่างการจัดกลุ่มหลายคอลัมน์\n",
    "data2 = {\n",
    "    'Name': ['Alice', 'Bob', 'Charlie', 'David', 'Eva', 'Frank'],\n",
    "    'Department': ['HR', 'IT', 'Finance', 'IT', 'Marketing', 'Finance'],\n",
    "    'Location': ['Bangkok', 'Bangkok', 'Chiang Mai', 'Chiang Mai', 'Bangkok', 'Bangkok'],\n",
    "    'Salary': [50000, 60000, 55000, 70000, 65000, 52000]\n",
    "}\n",
    "\n",
    "df2 = pd.DataFrame(data2)\n",
    "\n",
    "# จัดกลุ่มข้อมูลตามแผนกและสถานที่\n",
    "salary_sum_by_dept_location = df2.groupby(['Department', 'Location'])['Salary'].sum()\n",
    "print(salary_sum_by_dept_location)"
   ]
  }
 ],
 "metadata": {
  "kernelspec": {
   "display_name": "Python 3",
   "language": "python",
   "name": "python3"
  },
  "language_info": {
   "codemirror_mode": {
    "name": "ipython",
    "version": 3
   },
   "file_extension": ".py",
   "mimetype": "text/x-python",
   "name": "python",
   "nbconvert_exporter": "python",
   "pygments_lexer": "ipython3",
   "version": "3.12.7"
  }
 },
 "nbformat": 4,
 "nbformat_minor": 2
}
