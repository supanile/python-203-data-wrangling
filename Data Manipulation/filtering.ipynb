{
 "cells": [
  {
   "cell_type": "code",
   "execution_count": 1,
   "metadata": {},
   "outputs": [
    {
     "name": "stdout",
     "output_type": "stream",
     "text": [
      "      Name  Age Department  Salary\n",
      "0    Alice   24         HR   50000\n",
      "1      Bob   27         IT   60000\n",
      "2  Charlie   22    Finance   55000\n",
      "3    David   32         IT   70000\n",
      "4      Eva   29  Marketing   65000\n"
     ]
    }
   ],
   "source": [
    "import pandas as pd\n",
    "\n",
    "# สร้าง DataFrame\n",
    "data = {\n",
    "    'Name': ['Alice', 'Bob', 'Charlie', 'David', 'Eva'],\n",
    "    'Age': [24, 27, 22, 32, 29],\n",
    "    'Department': ['HR', 'IT', 'Finance', 'IT', 'Marketing'],\n",
    "    'Salary': [50000, 60000, 55000, 70000, 65000]\n",
    "}\n",
    "\n",
    "df = pd.DataFrame(data)\n",
    "print(df)"
   ]
  },
  {
   "cell_type": "code",
   "execution_count": 2,
   "metadata": {},
   "outputs": [
    {
     "name": "stdout",
     "output_type": "stream",
     "text": [
      "    Name  Age Department  Salary\n",
      "1    Bob   27         IT   60000\n",
      "3  David   32         IT   70000\n"
     ]
    }
   ],
   "source": [
    "# ตัวอย่าง 1: กรองเฉพาะพนักงานที่อยู่ในแผนก IT\n",
    "\n",
    "# สามารถใส่ condition กับ column โดยตรงได้เลย\n",
    "it_department = df[df['Department'] == 'IT']\n",
    "print(it_department)"
   ]
  },
  {
   "cell_type": "code",
   "execution_count": 3,
   "metadata": {},
   "outputs": [
    {
     "name": "stdout",
     "output_type": "stream",
     "text": [
      "    Name  Age Department  Salary\n",
      "3  David   32         IT   70000\n",
      "4    Eva   29  Marketing   65000\n"
     ]
    }
   ],
   "source": [
    "# ตัวอย่าง 2: กรองพนักงานที่มีเงินเดือนสูงกว่า 60,000 บาท\n",
    "\n",
    "high_salary = df[df['Salary'] > 60000]\n",
    "print(high_salary)"
   ]
  },
  {
   "cell_type": "code",
   "execution_count": 4,
   "metadata": {},
   "outputs": [
    {
     "name": "stdout",
     "output_type": "stream",
     "text": [
      "  Name  Age Department  Salary\n",
      "1  Bob   27         IT   60000\n"
     ]
    }
   ],
   "source": [
    "# ตัวอย่าง 3: กรองพนักงานที่อายุน้อยกว่า 30 ปีและอยู่ในแผนก IT\n",
    "\n",
    "young_it_department = df[(df['Age'] < 30) & (df['Department'] == 'IT')]\n",
    "print(young_it_department)"
   ]
  }
 ],
 "metadata": {
  "kernelspec": {
   "display_name": "Python 3",
   "language": "python",
   "name": "python3"
  },
  "language_info": {
   "codemirror_mode": {
    "name": "ipython",
    "version": 3
   },
   "file_extension": ".py",
   "mimetype": "text/x-python",
   "name": "python",
   "nbconvert_exporter": "python",
   "pygments_lexer": "ipython3",
   "version": "3.12.7"
  }
 },
 "nbformat": 4,
 "nbformat_minor": 2
}
