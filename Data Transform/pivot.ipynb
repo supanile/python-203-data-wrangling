{
 "cells": [
  {
   "cell_type": "code",
   "execution_count": 1,
   "metadata": {},
   "outputs": [
    {
     "name": "stdout",
     "output_type": "stream",
     "text": [
      "Original DataFrame:\n",
      "         date product  sales\n",
      "0  2024-01-01       A    100\n",
      "1  2024-01-01       B    150\n",
      "2  2024-01-02       A    200\n",
      "3  2024-01-02       B    250\n"
     ]
    }
   ],
   "source": [
    "import pandas as pd\n",
    "\n",
    "# ตัวอย่าง DataFrame\n",
    "data = {\n",
    "    'date': ['2024-01-01', '2024-01-01', '2024-01-02', '2024-01-02'],\n",
    "    'product': ['A', 'B', 'A', 'B'],\n",
    "    'sales': [100, 150, 200, 250]\n",
    "}\n",
    "\n",
    "df = pd.DataFrame(data)\n",
    "\n",
    "print(\"Original DataFrame:\")\n",
    "print(df)"
   ]
  },
  {
   "cell_type": "code",
   "execution_count": 2,
   "metadata": {},
   "outputs": [
    {
     "name": "stdout",
     "output_type": "stream",
     "text": [
      "Pivoted DataFrame:\n",
      "product       A    B\n",
      "date                \n",
      "2024-01-01  100  150\n",
      "2024-01-02  200  250\n"
     ]
    }
   ],
   "source": [
    "# การใช้ pivot โดยกำหนด index เป็น 'date', columns เป็น 'product', values เป็น 'sales'\n",
    "pivot_df = df.pivot(index='date', columns='product', values='sales')\n",
    "\n",
    "print(\"Pivoted DataFrame:\")\n",
    "print(pivot_df)"
   ]
  }
 ],
 "metadata": {
  "kernelspec": {
   "display_name": "Python 3",
   "language": "python",
   "name": "python3"
  },
  "language_info": {
   "codemirror_mode": {
    "name": "ipython",
    "version": 3
   },
   "file_extension": ".py",
   "mimetype": "text/x-python",
   "name": "python",
   "nbconvert_exporter": "python",
   "pygments_lexer": "ipython3",
   "version": "3.12.7"
  }
 },
 "nbformat": 4,
 "nbformat_minor": 2
}
