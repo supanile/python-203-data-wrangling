{
 "cells": [
  {
   "cell_type": "code",
   "execution_count": null,
   "metadata": {},
   "outputs": [],
   "source": [
    "# ตัวอย่าง 1: Reshaping Data with melt\n",
    "\n",
    "import pandas as pd\n",
    "\n",
    "# DataFrame แบบกว้าง\n",
    "df = pd.DataFrame({\n",
    "    'date': ['2024-01-01', '2024-01-02', '2024-01-03'],\n",
    "    'A_sales': [100, 150, 130],\n",
    "    'B_sales': [200, 250, 220]\n",
    "})\n",
    "\n",
    "print(\"Original Wide DataFrame:\")\n",
    "print(df)"
   ]
  },
  {
   "cell_type": "code",
   "execution_count": 1,
   "metadata": {},
   "outputs": [],
   "source": [
    "# ตัวอย่าง 2: Reshaping Data with pivot\n",
    "\n",
    "# DataFrame แบบยาว (ที่ได้จากการ melt ข้างต้น)\n",
    "melted_df = pd.DataFrame({\n",
    "    'date': ['2024-01-01', '2024-01-01', '2024-01-02', '2024-01-02', '2024-01-03', '2024-01-03'],\n",
    "    'product': ['A_sales', 'B_sales', 'A_sales', 'B_sales', 'A_sales', 'B_sales'],\n",
    "    'sales': [100, 200, 150, 250, 130, 220]\n",
    "})\n",
    "\n",
    "print(\"Original Long DataFrame:\")\n",
    "print(melted_df)"
   ]
  }
 ],
 "metadata": {
  "kernelspec": {
   "display_name": "Python 3",
   "language": "python",
   "name": "python3"
  },
  "language_info": {
   "codemirror_mode": {
    "name": "ipython",
    "version": 3
   },
   "file_extension": ".py",
   "mimetype": "text/x-python",
   "name": "python",
   "nbconvert_exporter": "python",
   "pygments_lexer": "ipython3",
   "version": "3.12.7"
  }
 },
 "nbformat": 4,
 "nbformat_minor": 2
}
