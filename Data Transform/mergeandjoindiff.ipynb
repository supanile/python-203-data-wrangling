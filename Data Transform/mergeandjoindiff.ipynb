{
 "cells": [
  {
   "cell_type": "code",
   "execution_count": null,
   "metadata": {},
   "outputs": [],
   "source": [
    "#ความแตกต่างระหว่าง merge กับ join"
   ]
  },
  {
   "cell_type": "code",
   "execution_count": 2,
   "metadata": {},
   "outputs": [
    {
     "name": "stdout",
     "output_type": "stream",
     "text": [
      "Merged DataFrame using merge with column 'customer_id':\n",
      "   customer_id     name  purchase\n",
      "0            1    Alice       100\n",
      "1            2      Bob       150\n",
      "2            3  Charlie       200\n"
     ]
    }
   ],
   "source": [
    "# ตัวอย่างที่ 1: ใช้ merge เมื่อรวมโดยอิงจากคอลัมน์\n",
    "\n",
    "import pandas as pd\n",
    "\n",
    "# DataFrame แรก\n",
    "df1 = pd.DataFrame({\n",
    "    'customer_id': [1, 2, 3, 4],\n",
    "    'name': ['Alice', 'Bob', 'Charlie', 'David']\n",
    "})\n",
    "\n",
    "# DataFrame ที่สอง\n",
    "df2 = pd.DataFrame({\n",
    "    'customer_id': [1, 2, 3, 5],\n",
    "    'purchase': [100, 150, 200, 250]\n",
    "})\n",
    "\n",
    "# การใช้ merge โดยระบุ customer_id เป็นคีย์\n",
    "merged_df = pd.merge(df1, df2, on='customer_id', how='inner')\n",
    "\n",
    "print(\"Merged DataFrame using merge with column 'customer_id':\")\n",
    "print(merged_df)"
   ]
  },
  {
   "cell_type": "code",
   "execution_count": null,
   "metadata": {},
   "outputs": [],
   "source": [
    "# ตัวอย่างที่ 2: ใช้ join เมื่อรวมโดยอิงจาก index\n",
    "\n",
    "# ตั้งค่า customer_id เป็น index สำหรับทั้งสอง DataFrame\n",
    "df1.set_index('customer_id', inplace=True)\n",
    "df2.set_index('customer_id', inplace=True)\n",
    "\n",
    "# การใช้ join โดยอิงจาก index\n",
    "joined_df = df1.join(df2, how='inner')\n",
    "\n",
    "print(\"Joined DataFrame using join with index 'customer_id':\")\n",
    "print(joined_df)"
   ]
  },
  {
   "cell_type": "code",
   "execution_count": 3,
   "metadata": {},
   "outputs": [
    {
     "name": "stdout",
     "output_type": "stream",
     "text": [
      "Merged DataFrame using merge with different columns 'customer_id_1' and 'customer_id_2':\n",
      "   customer_id_1     name  customer_id_2  purchase\n",
      "0              1    Alice              1       100\n",
      "1              2      Bob              2       150\n",
      "2              3  Charlie              3       200\n"
     ]
    }
   ],
   "source": [
    "# ตัวอย่างที่ 3: ใช้ merge กับคอลัมน์ที่ต่างกันใน DataFrame ทั้งสอง\n",
    "\n",
    "# DataFrame ที่มีคอลัมน์ชื่อแตกต่างกัน\n",
    "df1 = pd.DataFrame({\n",
    "    'customer_id_1': [1, 2, 3, 4],\n",
    "    'name': ['Alice', 'Bob', 'Charlie', 'David']\n",
    "})\n",
    "\n",
    "df2 = pd.DataFrame({\n",
    "    'customer_id_2': [1, 2, 3, 5],\n",
    "    'purchase': [100, 150, 200, 250]\n",
    "})\n",
    "\n",
    "# ใช้ merge โดยระบุคอลัมน์ที่แตกต่างกันใน DataFrame ทั้งสอง\n",
    "merged_df = pd.merge(df1, df2, left_on='customer_id_1', right_on='customer_id_2', how='inner')\n",
    "\n",
    "print(\"Merged DataFrame using merge with different columns 'customer_id_1' and 'customer_id_2':\")\n",
    "print(merged_df)"
   ]
  },
  {
   "cell_type": "code",
   "execution_count": 4,
   "metadata": {},
   "outputs": [
    {
     "name": "stdout",
     "output_type": "stream",
     "text": [
      "Merged DataFrame using merge with index:\n",
      "                name  purchase\n",
      "customer_id                   \n",
      "1              Alice       100\n",
      "2                Bob       150\n",
      "3            Charlie       200\n"
     ]
    }
   ],
   "source": [
    "import pandas as pd\n",
    "\n",
    "# DataFrame แรก ตั้งค่า customer_id เป็น index\n",
    "df1 = pd.DataFrame({\n",
    "    'customer_id': [1, 2, 3, 4],\n",
    "    'name': ['Alice', 'Bob', 'Charlie', 'David']\n",
    "}).set_index('customer_id')\n",
    "\n",
    "# DataFrame ที่สอง ตั้งค่า customer_id เป็น index\n",
    "df2 = pd.DataFrame({\n",
    "    'customer_id': [1, 2, 3, 5],\n",
    "    'purchase': [100, 150, 200, 250]\n",
    "}).set_index('customer_id')\n",
    "\n",
    "# ใช้ merge โดยใช้ index ของทั้งสอง DataFrame\n",
    "merged_df = pd.merge(df1, df2, left_index=True, right_index=True, how='inner')\n",
    "\n",
    "print(\"Merged DataFrame using merge with index:\")\n",
    "print(merged_df)"
   ]
  }
 ],
 "metadata": {
  "kernelspec": {
   "display_name": "Python 3",
   "language": "python",
   "name": "python3"
  },
  "language_info": {
   "codemirror_mode": {
    "name": "ipython",
    "version": 3
   },
   "file_extension": ".py",
   "mimetype": "text/x-python",
   "name": "python",
   "nbconvert_exporter": "python",
   "pygments_lexer": "ipython3",
   "version": "3.12.7"
  }
 },
 "nbformat": 4,
 "nbformat_minor": 2
}
