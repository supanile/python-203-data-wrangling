{
 "cells": [
  {
   "cell_type": "code",
   "execution_count": 1,
   "metadata": {},
   "outputs": [
    {
     "name": "stdout",
     "output_type": "stream",
     "text": [
      "Joined DataFrame:\n",
      "                name    location\n",
      "customer_id                     \n",
      "1              Alice     Bangkok\n",
      "2                Bob  Chiang Mai\n",
      "3            Charlie      Phuket\n"
     ]
    }
   ],
   "source": [
    "import pandas as pd\n",
    "\n",
    "# ตัวอย่าง DataFrame แรก\n",
    "df1 = pd.DataFrame({\n",
    "    'customer_id': [1, 2, 3, 4],\n",
    "    'name': ['Alice', 'Bob', 'Charlie', 'David']\n",
    "})\n",
    "\n",
    "# ตัวอย่าง DataFrame ที่สอง\n",
    "df2 = pd.DataFrame({\n",
    "    'customer_id': [1, 2, 3, 5],\n",
    "    'location': ['Bangkok', 'Chiang Mai', 'Phuket', 'Pattaya']\n",
    "})\n",
    "\n",
    "# ตั้งค่าให้คอลัมน์ customer_id เป็น index เพื่อใช้ในการ join\n",
    "df1.set_index('customer_id', inplace=True)\n",
    "df2.set_index('customer_id', inplace=True)\n",
    "\n",
    "# การ Joining DataFrame ทั้งสองโดยใช้ index 'customer_id'\n",
    "joined_df = df1.join(df2, how='inner')  # ใช้ 'inner join' เป็นตัวอย่าง\n",
    "\n",
    "print(\"Joined DataFrame:\")\n",
    "print(joined_df)"
   ]
  }
 ],
 "metadata": {
  "kernelspec": {
   "display_name": "Python 3",
   "language": "python",
   "name": "python3"
  },
  "language_info": {
   "codemirror_mode": {
    "name": "ipython",
    "version": 3
   },
   "file_extension": ".py",
   "mimetype": "text/x-python",
   "name": "python",
   "nbconvert_exporter": "python",
   "pygments_lexer": "ipython3",
   "version": "3.12.7"
  }
 },
 "nbformat": 4,
 "nbformat_minor": 2
}
