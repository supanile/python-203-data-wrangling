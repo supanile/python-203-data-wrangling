{
 "cells": [
  {
   "cell_type": "code",
   "execution_count": null,
   "metadata": {},
   "outputs": [],
   "source": [
    "# ตัวอย่างที่ 1: การต่อข้อมูลในแนวตั้ง (ต่อแถวตามปกติ)\n",
    "\n",
    "import pandas as pd\n",
    "\n",
    "# DataFrame แรก\n",
    "df1 = pd.DataFrame({\n",
    "    'customer_id': [1, 2, 3],\n",
    "    'name': ['Alice', 'Bob', 'Charlie']\n",
    "})\n",
    "\n",
    "# DataFrame ที่สอง\n",
    "df2 = pd.DataFrame({\n",
    "    'customer_id': [4, 5, 6],\n",
    "    'name': ['David', 'Eve', 'Frank']\n",
    "})\n",
    "\n",
    "# Concatenate DataFrame ทั้งสองในแนวตั้ง (default คือ axis=0)\n",
    "concatenated_df = pd.concat([df1, df2])\n",
    "\n",
    "print(\"Concatenated DataFrame (vertical):\")\n",
    "print(concatenated_df)"
   ]
  },
  {
   "cell_type": "code",
   "execution_count": null,
   "metadata": {},
   "outputs": [],
   "source": [
    "# ตัวอย่างที่ 2: การต่อข้อมูลในแนวนอน (ต่อ column จาก 2 dataframe)\n",
    "\n",
    "import pandas as pd\n",
    "\n",
    "# DataFrame แรก\n",
    "df1 = pd.DataFrame({\n",
    "    'customer_id': [1, 2, 3],\n",
    "    'name': ['Alice', 'Bob', 'Charlie']\n",
    "})\n",
    "\n",
    "# DataFrame เพิ่มเติมสำหรับการ Concatenate แนวนอน\n",
    "df3 = pd.DataFrame({\n",
    "    'purchase': [100, 150, 200]\n",
    "})\n",
    "\n",
    "# Concatenate DataFrame แนวนอน\n",
    "concatenated_df_horizontal = pd.concat([df1, df3], axis=1)\n",
    "\n",
    "print(\"Concatenated DataFrame (horizontal):\")\n",
    "print(concatenated_df_horizontal)"
   ]
  }
 ],
 "metadata": {
  "language_info": {
   "name": "python"
  }
 },
 "nbformat": 4,
 "nbformat_minor": 2
}
