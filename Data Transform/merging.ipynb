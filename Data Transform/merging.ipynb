{
 "cells": [
  {
   "cell_type": "code",
   "execution_count": 1,
   "metadata": {},
   "outputs": [
    {
     "name": "stdout",
     "output_type": "stream",
     "text": [
      "Merged DataFrame:\n",
      "   customer_id     name  purchase    location membership_level\n",
      "0            1    Alice       100     Bangkok             Gold\n",
      "1            2      Bob       150  Chiang Mai           Silver\n",
      "2            3  Charlie       200      Phuket             Gold\n"
     ]
    }
   ],
   "source": [
    "import pandas as pd\n",
    "\n",
    "# ตัวอย่าง DataFrame แรก\n",
    "df1 = pd.DataFrame({\n",
    "    'customer_id': [1, 2, 3, 4],\n",
    "    'name': ['Alice', 'Bob', 'Charlie', 'David'],\n",
    "    'purchase': [100, 150, 200, 250]\n",
    "})\n",
    "\n",
    "# ตัวอย่าง DataFrame ที่สอง\n",
    "df2 = pd.DataFrame({\n",
    "    'customer_id': [1, 2, 3, 5],\n",
    "    'location': ['Bangkok', 'Chiang Mai', 'Phuket', 'Pattaya'],\n",
    "    'membership_level': ['Gold', 'Silver', 'Gold', 'Bronze']\n",
    "})\n",
    "\n",
    "# การ Merging DataFrame ทั้งสองโดยใช้คอลัมน์ 'customer_id' เป็นคีย์\n",
    "merged_df = pd.merge(df1, df2, on='customer_id', how='inner')\n",
    "\n",
    "print(\"Merged DataFrame:\")\n",
    "print(merged_df)"
   ]
  }
 ],
 "metadata": {
  "kernelspec": {
   "display_name": "Python 3",
   "language": "python",
   "name": "python3"
  },
  "language_info": {
   "codemirror_mode": {
    "name": "ipython",
    "version": 3
   },
   "file_extension": ".py",
   "mimetype": "text/x-python",
   "name": "python",
   "nbconvert_exporter": "python",
   "pygments_lexer": "ipython3",
   "version": "3.12.7"
  }
 },
 "nbformat": 4,
 "nbformat_minor": 2
}
